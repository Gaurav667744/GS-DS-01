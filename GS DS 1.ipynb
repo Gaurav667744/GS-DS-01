{
 "cells": [
  {
   "cell_type": "code",
   "execution_count": 21,
   "id": "7a3ee306-7034-41a1-ada0-7afb3cfb224b",
   "metadata": {},
   "outputs": [
    {
     "name": "stdin",
     "output_type": "stream",
     "text": [
      "enter the length 40\n"
     ]
    }
   ],
   "source": [
    "length=float(input(\"enter the length\"))"
   ]
  },
  {
   "cell_type": "code",
   "execution_count": 2,
   "id": "4d33335d-c4be-4c10-967c-d9d6f8c983cc",
   "metadata": {},
   "outputs": [
    {
     "name": "stdin",
     "output_type": "stream",
     "text": [
      "enter the width 30\n"
     ]
    }
   ],
   "source": [
    "width=float(input(\"enter the width\"))"
   ]
  },
  {
   "cell_type": "code",
   "execution_count": 15,
   "id": "c75e988b-2dd9-47e6-9e4e-9dab2dae6468",
   "metadata": {},
   "outputs": [],
   "source": [
    "area=length*width"
   ]
  },
  {
   "cell_type": "code",
   "execution_count": 20,
   "id": "d56c9143-276e-4092-a022-09e177fe4629",
   "metadata": {},
   "outputs": [
    {
     "name": "stdout",
     "output_type": "stream",
     "text": [
      "the area of the rectangle is 600.0\n"
     ]
    }
   ],
   "source": [
    "print(\"the area of the rectangle is\", area)"
   ]
  },
  {
   "cell_type": "code",
   "execution_count": 1,
   "id": "c3ab6c60-c97c-48c9-8095-c3ca08eb2ac3",
   "metadata": {},
   "outputs": [
    {
     "name": "stdin",
     "output_type": "stream",
     "text": [
      "enter the celsius temperature is  8\n"
     ]
    }
   ],
   "source": [
    "celsius_temperature=float(input(\"enter the celsius temperature is \"))"
   ]
  },
  {
   "cell_type": "code",
   "execution_count": 2,
   "id": "65cd0425-4fbd-494f-89f5-0f163234f0e2",
   "metadata": {},
   "outputs": [],
   "source": [
    "fahrenheit_temperature=(celsius_temperature*9/5) + 32"
   ]
  },
  {
   "cell_type": "code",
   "execution_count": 5,
   "id": "98b21127-f565-4e47-98ed-f15c39bdb10e",
   "metadata": {},
   "outputs": [],
   "source": [
    "print=(\"convert\",fahrenheit_temperature)"
   ]
  },
  {
   "cell_type": "code",
   "execution_count": 6,
   "id": "739b476e-5816-491d-93fd-9869003a2527",
   "metadata": {},
   "outputs": [
    {
     "data": {
      "text/plain": [
       "('convert', 46.4)"
      ]
     },
     "execution_count": 6,
     "metadata": {},
     "output_type": "execute_result"
    }
   ],
   "source": [
    "print"
   ]
  },
  {
   "cell_type": "code",
   "execution_count": null,
   "id": "f52824f4-6b55-48e3-b539-a5bdd35aee6d",
   "metadata": {},
   "outputs": [],
   "source": []
  }
 ],
 "metadata": {
  "kernelspec": {
   "display_name": "Python 3 (ipykernel)",
   "language": "python",
   "name": "python3"
  },
  "language_info": {
   "codemirror_mode": {
    "name": "ipython",
    "version": 3
   },
   "file_extension": ".py",
   "mimetype": "text/x-python",
   "name": "python",
   "nbconvert_exporter": "python",
   "pygments_lexer": "ipython3",
   "version": "3.10.8"
  }
 },
 "nbformat": 4,
 "nbformat_minor": 5
}
